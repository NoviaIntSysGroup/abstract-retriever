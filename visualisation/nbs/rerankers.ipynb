{
 "cells": [
  {
   "cell_type": "code",
   "execution_count": null,
   "metadata": {},
   "outputs": [],
   "source": [
    "import os\n",
    "import pandas as pd\n",
    "from utils.decorators import *\n",
    "from openai import AzureOpenAI\n",
    "from rerankers import Reranker\n",
    "from dotenv import load_dotenv  # for loading environment variables from a .env file\n",
    "load_dotenv()  # load environment variables from .env file\n",
    "\n",
    "\n",
    "client = AzureOpenAI(\n",
    "                azure_endpoint=os.getenv(\"AZURE_API_BASE\"),\n",
    "                api_version=os.getenv(\"AZURE_API_VERSION\"),\n",
    "                api_key=os.getenv(\"AZURE_API_KEY\")\n",
    "        )\n",
    "\n",
    "query=\"I love you\"\n",
    "docs =[\"I really like you\", \"I hate you\"]\n",
    "\n"
   ]
  },
  {
   "cell_type": "code",
   "execution_count": 2,
   "metadata": {},
   "outputs": [],
   "source": [
    "def show_results(results):\n",
    "    # Create a list of dictionaries for each result\n",
    "    data = [\n",
    "        {\n",
    "            \"Text\": result.document.text,\n",
    "            \"Rank\": result.rank,\n",
    "            \"Score\": result.score\n",
    "        }\n",
    "        for result in results.results\n",
    "    ]\n",
    "\n",
    "    # Create a DataFrame from the list of dictionaries\n",
    "    df = pd.DataFrame(data)\n",
    "\n",
    "    # Print the DataFrame as a table\n",
    "    print(df)"
   ]
  },
  {
   "cell_type": "code",
   "execution_count": null,
   "metadata": {},
   "outputs": [],
   "source": [
    "ranker = Reranker(f\"gpt-4o\", model_type=\"rankgpt\", api_key = os.environ['OPENAI_API_KEY'])\n",
    "results = ranker.rank(query, docs)\n",
    "show_results(results)"
   ]
  },
  {
   "cell_type": "code",
   "execution_count": null,
   "metadata": {},
   "outputs": [],
   "source": [
    "ranker = Reranker(f\"azure/gpt-4o\", model_type=\"rankgpt\", api_key = os.environ['AZURE_API_KEY'])\n",
    "results = ranker.rank(query, docs)\n",
    "show_results(results)\n"
   ]
  },
  {
   "cell_type": "code",
   "execution_count": null,
   "metadata": {},
   "outputs": [],
   "source": [
    "ranker = Reranker('cross-encoder', verbose=0)\n",
    "results = ranker.rank(query, docs)\n",
    "show_results(results)"
   ]
  },
  {
   "cell_type": "code",
   "execution_count": null,
   "metadata": {},
   "outputs": [],
   "source": [
    "print(os.getenv('OPENAI_API_KEY'))\n",
    "ranker = Reranker('rankllm', api_key=os.getenv('OPENAI_API_KEY'))\n",
    "ranker.rank(query=query, docs=docs)\n",
    "show_results(results)\n"
   ]
  },
  {
   "cell_type": "code",
   "execution_count": null,
   "metadata": {},
   "outputs": [],
   "source": [
    "# https://docs.litellm.ai/docs/providers/azure\n",
    "ranker = Reranker(\n",
    "        f\"azure/gpt-4o\",\n",
    "        model_type=\"rankgpt\",\n",
    "        api_key = os.environ['AZURE_API_KEY'],\n",
    "    )\n",
    "results = ranker.rank(query, docs)\n",
    "show_results(results)"
   ]
  },
  {
   "cell_type": "code",
   "execution_count": null,
   "metadata": {},
   "outputs": [],
   "source": []
  }
 ],
 "metadata": {
  "kernelspec": {
   "display_name": "visualisation-eRvPRmPB-py3.10",
   "language": "python",
   "name": "python3"
  },
  "language_info": {
   "codemirror_mode": {
    "name": "ipython",
    "version": 3
   },
   "file_extension": ".py",
   "mimetype": "text/x-python",
   "name": "python",
   "nbconvert_exporter": "python",
   "pygments_lexer": "ipython3",
   "version": "3.10.12"
  }
 },
 "nbformat": 4,
 "nbformat_minor": 2
}
