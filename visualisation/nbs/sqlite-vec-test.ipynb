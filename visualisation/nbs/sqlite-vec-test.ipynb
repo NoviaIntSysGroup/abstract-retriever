{
 "cells": [
  {
   "cell_type": "code",
   "execution_count": 2,
   "id": "ea6c94df-f6f3-4864-8973-e7a7bf9def11",
   "metadata": {},
   "outputs": [
    {
     "name": "stdout",
     "output_type": "stream",
     "text": [
      "Collecting pysqlite3\n",
      "  Downloading pysqlite3-0.5.3.tar.gz (40 kB)\n",
      "\u001b[2K     \u001b[90m━━━━━━━━━━━━━━━━━━━━━━━━━━━━━━━━━━━━━━━━\u001b[0m \u001b[32m40.8/40.8 kB\u001b[0m \u001b[31m2.5 MB/s\u001b[0m eta \u001b[36m0:00:00\u001b[0m\n",
      "\u001b[?25h  Preparing metadata (setup.py) ... \u001b[?25ldone\n",
      "\u001b[?25hBuilding wheels for collected packages: pysqlite3\n",
      "  Building wheel for pysqlite3 (setup.py) ... \u001b[?25ldone\n",
      "\u001b[?25h  Created wheel for pysqlite3: filename=pysqlite3-0.5.3-cp312-cp312-macosx_11_0_arm64.whl size=36796 sha256=3246a92b2f63c327cb7cfd1b79df0b9e446bde6466de881e0b8144c2928c8ef5\n",
      "  Stored in directory: /Users/toffe/Library/Caches/pip/wheels/70/20/3b/54fd502b1ed0b8e0197bcb03a5f874929412935d37a0cea4aa\n",
      "Successfully built pysqlite3\n",
      "Installing collected packages: pysqlite3\n",
      "Successfully installed pysqlite3-0.5.3\n"
     ]
    }
   ],
   "source": [
    "!pip install pysqlite3"
   ]
  },
  {
   "cell_type": "code",
   "execution_count": 3,
   "id": "04c4d169-6168-4052-b6fd-5e95a901fd40",
   "metadata": {},
   "outputs": [
    {
     "name": "stdout",
     "output_type": "stream",
     "text": [
      "Collecting sqlite-vec\n",
      "  Downloading sqlite_vec-0.1.1-py3-none-macosx_11_0_arm64.whl.metadata (198 bytes)\n",
      "Downloading sqlite_vec-0.1.1-py3-none-macosx_11_0_arm64.whl (130 kB)\n",
      "\u001b[2K   \u001b[90m━━━━━━━━━━━━━━━━━━━━━━━━━━━━━━━━━━━━━━━━\u001b[0m \u001b[32m130.1/130.1 kB\u001b[0m \u001b[31m1.5 MB/s\u001b[0m eta \u001b[36m0:00:00\u001b[0ma \u001b[36m0:00:01\u001b[0m\n",
      "\u001b[?25hInstalling collected packages: sqlite-vec\n",
      "Successfully installed sqlite-vec-0.1.1\n"
     ]
    }
   ],
   "source": [
    "!pip install sqlite-vec"
   ]
  },
  {
   "cell_type": "code",
   "execution_count": 4,
   "id": "7327a230-0ab6-43a0-a87f-6fbeaed576be",
   "metadata": {},
   "outputs": [
    {
     "name": "stdout",
     "output_type": "stream",
     "text": [
      "Collecting datasets\n",
      "  Downloading datasets-2.21.0-py3-none-any.whl.metadata (21 kB)\n",
      "Requirement already satisfied: filelock in /Users/toffe/miniforge3/envs/dl_env_p12/lib/python3.12/site-packages (from datasets) (3.13.1)\n",
      "Requirement already satisfied: numpy>=1.17 in /Users/toffe/miniforge3/envs/dl_env_p12/lib/python3.12/site-packages (from datasets) (1.26.4)\n",
      "Requirement already satisfied: pyarrow>=15.0.0 in /Users/toffe/miniforge3/envs/dl_env_p12/lib/python3.12/site-packages (from datasets) (15.0.2)\n",
      "Collecting dill<0.3.9,>=0.3.0 (from datasets)\n",
      "  Using cached dill-0.3.8-py3-none-any.whl.metadata (10 kB)\n",
      "Requirement already satisfied: pandas in /Users/toffe/miniforge3/envs/dl_env_p12/lib/python3.12/site-packages (from datasets) (2.2.0)\n",
      "Collecting requests>=2.32.2 (from datasets)\n",
      "  Downloading requests-2.32.3-py3-none-any.whl.metadata (4.6 kB)\n",
      "Collecting tqdm>=4.66.3 (from datasets)\n",
      "  Using cached tqdm-4.66.5-py3-none-any.whl.metadata (57 kB)\n",
      "Collecting xxhash (from datasets)\n",
      "  Downloading xxhash-3.5.0-cp312-cp312-macosx_11_0_arm64.whl.metadata (12 kB)\n",
      "Collecting multiprocess (from datasets)\n",
      "  Using cached multiprocess-0.70.16-py312-none-any.whl.metadata (7.2 kB)\n",
      "Requirement already satisfied: fsspec<=2024.6.1,>=2023.1.0 in /Users/toffe/miniforge3/envs/dl_env_p12/lib/python3.12/site-packages (from fsspec[http]<=2024.6.1,>=2023.1.0->datasets) (2024.2.0)\n",
      "Requirement already satisfied: aiohttp in /Users/toffe/miniforge3/envs/dl_env_p12/lib/python3.12/site-packages (from datasets) (3.9.3)\n",
      "Collecting huggingface-hub>=0.21.2 (from datasets)\n",
      "  Downloading huggingface_hub-0.24.6-py3-none-any.whl.metadata (13 kB)\n",
      "Requirement already satisfied: packaging in /Users/toffe/miniforge3/envs/dl_env_p12/lib/python3.12/site-packages (from datasets) (23.2)\n",
      "Requirement already satisfied: pyyaml>=5.1 in /Users/toffe/miniforge3/envs/dl_env_p12/lib/python3.12/site-packages (from datasets) (6.0.1)\n",
      "Requirement already satisfied: aiosignal>=1.1.2 in /Users/toffe/miniforge3/envs/dl_env_p12/lib/python3.12/site-packages (from aiohttp->datasets) (1.3.1)\n",
      "Requirement already satisfied: attrs>=17.3.0 in /Users/toffe/miniforge3/envs/dl_env_p12/lib/python3.12/site-packages (from aiohttp->datasets) (23.2.0)\n",
      "Requirement already satisfied: frozenlist>=1.1.1 in /Users/toffe/miniforge3/envs/dl_env_p12/lib/python3.12/site-packages (from aiohttp->datasets) (1.4.1)\n",
      "Requirement already satisfied: multidict<7.0,>=4.5 in /Users/toffe/miniforge3/envs/dl_env_p12/lib/python3.12/site-packages (from aiohttp->datasets) (6.0.5)\n",
      "Requirement already satisfied: yarl<2.0,>=1.0 in /Users/toffe/miniforge3/envs/dl_env_p12/lib/python3.12/site-packages (from aiohttp->datasets) (1.9.4)\n",
      "Requirement already satisfied: typing-extensions>=3.7.4.3 in /Users/toffe/miniforge3/envs/dl_env_p12/lib/python3.12/site-packages (from huggingface-hub>=0.21.2->datasets) (4.12.2)\n",
      "Requirement already satisfied: charset-normalizer<4,>=2 in /Users/toffe/miniforge3/envs/dl_env_p12/lib/python3.12/site-packages (from requests>=2.32.2->datasets) (3.3.2)\n",
      "Requirement already satisfied: idna<4,>=2.5 in /Users/toffe/miniforge3/envs/dl_env_p12/lib/python3.12/site-packages (from requests>=2.32.2->datasets) (3.6)\n",
      "Requirement already satisfied: urllib3<3,>=1.21.1 in /Users/toffe/miniforge3/envs/dl_env_p12/lib/python3.12/site-packages (from requests>=2.32.2->datasets) (2.2.1)\n",
      "Requirement already satisfied: certifi>=2017.4.17 in /Users/toffe/miniforge3/envs/dl_env_p12/lib/python3.12/site-packages (from requests>=2.32.2->datasets) (2024.2.2)\n",
      "Requirement already satisfied: python-dateutil>=2.8.2 in /Users/toffe/miniforge3/envs/dl_env_p12/lib/python3.12/site-packages (from pandas->datasets) (2.8.2)\n",
      "Requirement already satisfied: pytz>=2020.1 in /Users/toffe/miniforge3/envs/dl_env_p12/lib/python3.12/site-packages (from pandas->datasets) (2024.1)\n",
      "Requirement already satisfied: tzdata>=2022.7 in /Users/toffe/miniforge3/envs/dl_env_p12/lib/python3.12/site-packages (from pandas->datasets) (2024.1)\n",
      "Requirement already satisfied: six>=1.5 in /Users/toffe/miniforge3/envs/dl_env_p12/lib/python3.12/site-packages (from python-dateutil>=2.8.2->pandas->datasets) (1.16.0)\n",
      "Downloading datasets-2.21.0-py3-none-any.whl (527 kB)\n",
      "\u001b[2K   \u001b[90m━━━━━━━━━━━━━━━━━━━━━━━━━━━━━━━━━━━━━━━━\u001b[0m \u001b[32m527.3/527.3 kB\u001b[0m \u001b[31m2.5 MB/s\u001b[0m eta \u001b[36m0:00:00\u001b[0ma \u001b[36m0:00:01\u001b[0m\n",
      "\u001b[?25hUsing cached dill-0.3.8-py3-none-any.whl (116 kB)\n",
      "Downloading huggingface_hub-0.24.6-py3-none-any.whl (417 kB)\n",
      "\u001b[2K   \u001b[90m━━━━━━━━━━━━━━━━━━━━━━━━━━━━━━━━━━━━━━━━\u001b[0m \u001b[32m417.5/417.5 kB\u001b[0m \u001b[31m3.0 MB/s\u001b[0m eta \u001b[36m0:00:00\u001b[0ma \u001b[36m0:00:01\u001b[0m\n",
      "\u001b[?25hDownloading requests-2.32.3-py3-none-any.whl (64 kB)\n",
      "\u001b[2K   \u001b[90m━━━━━━━━━━━━━━━━━━━━━━━━━━━━━━━━━━━━━━━━\u001b[0m \u001b[32m64.9/64.9 kB\u001b[0m \u001b[31m3.0 MB/s\u001b[0m eta \u001b[36m0:00:00\u001b[0m\n",
      "\u001b[?25hUsing cached tqdm-4.66.5-py3-none-any.whl (78 kB)\n",
      "Using cached multiprocess-0.70.16-py312-none-any.whl (146 kB)\n",
      "Downloading xxhash-3.5.0-cp312-cp312-macosx_11_0_arm64.whl (30 kB)\n",
      "Installing collected packages: xxhash, tqdm, requests, dill, multiprocess, huggingface-hub, datasets\n",
      "  Attempting uninstall: tqdm\n",
      "    Found existing installation: tqdm 4.66.2\n",
      "    Uninstalling tqdm-4.66.2:\n",
      "      Successfully uninstalled tqdm-4.66.2\n",
      "  Attempting uninstall: requests\n",
      "    Found existing installation: requests 2.31.0\n",
      "    Uninstalling requests-2.31.0:\n",
      "      Successfully uninstalled requests-2.31.0\n",
      "  Attempting uninstall: huggingface-hub\n",
      "    Found existing installation: huggingface-hub 0.20.3\n",
      "    Uninstalling huggingface-hub-0.20.3:\n",
      "      Successfully uninstalled huggingface-hub-0.20.3\n",
      "Successfully installed datasets-2.21.0 dill-0.3.8 huggingface-hub-0.24.6 multiprocess-0.70.16 requests-2.32.3 tqdm-4.66.5 xxhash-3.5.0\n"
     ]
    }
   ],
   "source": [
    "!pip install datasets"
   ]
  },
  {
   "cell_type": "code",
   "execution_count": 5,
   "id": "0569bf0f-74a7-4ca4-ab34-8978df66bfcd",
   "metadata": {},
   "outputs": [
    {
     "name": "stdout",
     "output_type": "stream",
     "text": [
      "Requirement already satisfied: sentence_transformers in /Users/toffe/miniforge3/envs/dl_env_p12/lib/python3.12/site-packages (3.0.1)\n",
      "Requirement already satisfied: transformers<5.0.0,>=4.34.0 in /Users/toffe/miniforge3/envs/dl_env_p12/lib/python3.12/site-packages (from sentence_transformers) (4.36.2)\n",
      "Requirement already satisfied: tqdm in /Users/toffe/miniforge3/envs/dl_env_p12/lib/python3.12/site-packages (from sentence_transformers) (4.66.5)\n",
      "Requirement already satisfied: torch>=1.11.0 in /Users/toffe/miniforge3/envs/dl_env_p12/lib/python3.12/site-packages (from sentence_transformers) (2.3.1)\n",
      "Requirement already satisfied: numpy in /Users/toffe/miniforge3/envs/dl_env_p12/lib/python3.12/site-packages (from sentence_transformers) (1.26.4)\n",
      "Requirement already satisfied: scikit-learn in /Users/toffe/miniforge3/envs/dl_env_p12/lib/python3.12/site-packages (from sentence_transformers) (1.4.1.post1)\n",
      "Requirement already satisfied: scipy in /Users/toffe/miniforge3/envs/dl_env_p12/lib/python3.12/site-packages (from sentence_transformers) (1.12.0)\n",
      "Requirement already satisfied: huggingface-hub>=0.15.1 in /Users/toffe/miniforge3/envs/dl_env_p12/lib/python3.12/site-packages (from sentence_transformers) (0.24.6)\n",
      "Requirement already satisfied: Pillow in /Users/toffe/miniforge3/envs/dl_env_p12/lib/python3.12/site-packages (from sentence_transformers) (10.2.0)\n",
      "Requirement already satisfied: filelock in /Users/toffe/miniforge3/envs/dl_env_p12/lib/python3.12/site-packages (from huggingface-hub>=0.15.1->sentence_transformers) (3.13.1)\n",
      "Requirement already satisfied: fsspec>=2023.5.0 in /Users/toffe/miniforge3/envs/dl_env_p12/lib/python3.12/site-packages (from huggingface-hub>=0.15.1->sentence_transformers) (2024.2.0)\n",
      "Requirement already satisfied: packaging>=20.9 in /Users/toffe/miniforge3/envs/dl_env_p12/lib/python3.12/site-packages (from huggingface-hub>=0.15.1->sentence_transformers) (23.2)\n",
      "Requirement already satisfied: pyyaml>=5.1 in /Users/toffe/miniforge3/envs/dl_env_p12/lib/python3.12/site-packages (from huggingface-hub>=0.15.1->sentence_transformers) (6.0.1)\n",
      "Requirement already satisfied: requests in /Users/toffe/miniforge3/envs/dl_env_p12/lib/python3.12/site-packages (from huggingface-hub>=0.15.1->sentence_transformers) (2.32.3)\n",
      "Requirement already satisfied: typing-extensions>=3.7.4.3 in /Users/toffe/miniforge3/envs/dl_env_p12/lib/python3.12/site-packages (from huggingface-hub>=0.15.1->sentence_transformers) (4.12.2)\n",
      "Requirement already satisfied: sympy in /Users/toffe/miniforge3/envs/dl_env_p12/lib/python3.12/site-packages (from torch>=1.11.0->sentence_transformers) (1.12)\n",
      "Requirement already satisfied: networkx in /Users/toffe/miniforge3/envs/dl_env_p12/lib/python3.12/site-packages (from torch>=1.11.0->sentence_transformers) (3.2.1)\n",
      "Requirement already satisfied: jinja2 in /Users/toffe/miniforge3/envs/dl_env_p12/lib/python3.12/site-packages (from torch>=1.11.0->sentence_transformers) (3.1.3)\n",
      "Requirement already satisfied: regex!=2019.12.17 in /Users/toffe/miniforge3/envs/dl_env_p12/lib/python3.12/site-packages (from transformers<5.0.0,>=4.34.0->sentence_transformers) (2023.12.25)\n",
      "Requirement already satisfied: tokenizers<0.19,>=0.14 in /Users/toffe/miniforge3/envs/dl_env_p12/lib/python3.12/site-packages (from transformers<5.0.0,>=4.34.0->sentence_transformers) (0.15.2)\n",
      "Requirement already satisfied: safetensors>=0.3.1 in /Users/toffe/miniforge3/envs/dl_env_p12/lib/python3.12/site-packages (from transformers<5.0.0,>=4.34.0->sentence_transformers) (0.4.2)\n",
      "Requirement already satisfied: joblib>=1.2.0 in /Users/toffe/miniforge3/envs/dl_env_p12/lib/python3.12/site-packages (from scikit-learn->sentence_transformers) (1.3.2)\n",
      "Requirement already satisfied: threadpoolctl>=2.0.0 in /Users/toffe/miniforge3/envs/dl_env_p12/lib/python3.12/site-packages (from scikit-learn->sentence_transformers) (3.4.0)\n",
      "Requirement already satisfied: MarkupSafe>=2.0 in /Users/toffe/miniforge3/envs/dl_env_p12/lib/python3.12/site-packages (from jinja2->torch>=1.11.0->sentence_transformers) (2.1.5)\n",
      "Requirement already satisfied: charset-normalizer<4,>=2 in /Users/toffe/miniforge3/envs/dl_env_p12/lib/python3.12/site-packages (from requests->huggingface-hub>=0.15.1->sentence_transformers) (3.3.2)\n",
      "Requirement already satisfied: idna<4,>=2.5 in /Users/toffe/miniforge3/envs/dl_env_p12/lib/python3.12/site-packages (from requests->huggingface-hub>=0.15.1->sentence_transformers) (3.6)\n",
      "Requirement already satisfied: urllib3<3,>=1.21.1 in /Users/toffe/miniforge3/envs/dl_env_p12/lib/python3.12/site-packages (from requests->huggingface-hub>=0.15.1->sentence_transformers) (2.2.1)\n",
      "Requirement already satisfied: certifi>=2017.4.17 in /Users/toffe/miniforge3/envs/dl_env_p12/lib/python3.12/site-packages (from requests->huggingface-hub>=0.15.1->sentence_transformers) (2024.2.2)\n",
      "Requirement already satisfied: mpmath>=0.19 in /Users/toffe/miniforge3/envs/dl_env_p12/lib/python3.12/site-packages (from sympy->torch>=1.11.0->sentence_transformers) (1.3.0)\n"
     ]
    }
   ],
   "source": [
    "!pip install sentence_transformers"
   ]
  },
  {
   "cell_type": "code",
   "execution_count": 7,
   "id": "349f0159-ccd2-429c-aedf-3dff2ddc8b37",
   "metadata": {},
   "outputs": [],
   "source": [
    "import sqlite3\n",
    "import sqlite_vec\n",
    "from sqlite_vec import serialize_float32\n",
    "import numpy as np\n",
    "\n",
    "db = sqlite3.connect(\"data/db/db.sqlite\")\n",
    "db.enable_load_extension(True)\n",
    "sqlite_vec.load(db)\n",
    "db.enable_load_extension(False)"
   ]
  },
  {
   "cell_type": "code",
   "execution_count": 10,
   "id": "4cd2cdd8-3908-4b64-94c1-565affe44b2f",
   "metadata": {},
   "outputs": [
    {
     "data": {
      "text/plain": [
       "<bound method NDFrame.head of                                                  title  citations    year  \\\n",
       "0    Maritime Digital Twin architecture: A concept ...       26.0  2021.0   \n",
       "1    Real-time digital twin for ship operation in w...       19.0  2022.0   \n",
       "2    Real-time digital twin of research vessel for ...       16.0  2021.0   \n",
       "3    Digital Twin in the Maritime Domain: A Review ...        6.0  2023.0   \n",
       "4    From digital twin to maritime data space: Tran...       16.0     NaN   \n",
       "..                                                 ...        ...     ...   \n",
       "859  The challenges and opportunities for developin...        0.0     NaN   \n",
       "860  Special issue dedicated to MOSES2019: 2nd inte...        0.0     NaN   \n",
       "861  Engine room simulator training for emergency p...        0.0     NaN   \n",
       "862  Application of computing technology in ship re...        0.0     NaN   \n",
       "863             Digital twin comes to life! “2D to 3D”        0.0     NaN   \n",
       "\n",
       "                                               authors  \\\n",
       "0                     Jan-Erik Giering, Alexander Dyck   \n",
       "1    Jae-Hoon Lee, Yoon-Seo Nam, Yonghwan Kim, Yumi...   \n",
       "2    Major, Pierre Yann; Li, Guoyuan; Zhang, Houxia...   \n",
       "3    Nuwan Sri Madusanka,Yijie Fan,Shaolong Yang an...   \n",
       "4                    Ørnulf Jan Rødseth, Arne J. Berre   \n",
       "..                                                 ...   \n",
       "859                                        Willmore S.   \n",
       "860                                  Frangopoulos C.A.   \n",
       "861                                    Lokuketagoda G.   \n",
       "862                                        Kamath Y.R.   \n",
       "863                                                NaN   \n",
       "\n",
       "                                               journal  \\\n",
       "0                              Automatisierungstechnik   \n",
       "1                                    Ocean Engineering   \n",
       "2    Proceedings of 35th European Council for Model...   \n",
       "3                                    J. Mar. Sci. Eng.   \n",
       "4    Proc. 13th Int. Symp. Integr. Ship’s Inf. Syst...   \n",
       "..                                                 ...   \n",
       "859  RINA, Royal Institution of Naval Architects - ...   \n",
       "860                                             Energy   \n",
       "861  20th Commemorative Annual General Assembly, AG...   \n",
       "862  RINA, Royal Institution of Naval Architects - ...   \n",
       "863                SNAME Maritime Convention, SMC 2018   \n",
       "\n",
       "                                              abstract  \\\n",
       "0    Digital Twins (DTs) play an important role in ...   \n",
       "1    This paper introduces a real-time digital twin...   \n",
       "2    Real-time digital twins of ships in operation ...   \n",
       "3    This paper highlights the development of Digit...   \n",
       "4    The concept of the digital twin is gaining mom...   \n",
       "..                                                 ...   \n",
       "859                                                NaN   \n",
       "860                                                NaN   \n",
       "861                                                NaN   \n",
       "862                                                NaN   \n",
       "863                                                NaN   \n",
       "\n",
       "                                              keywords  score  \\\n",
       "0    Maritime Digital Twin Architecture; shipping; ...     -1   \n",
       "1    Digital twin; Ship operation in waves; Real-ti...     90   \n",
       "2    Virtual Prototyping; Digital Twin; Remote Moni...     90   \n",
       "3    digital twin; digitalization; smart shipping; ...     80   \n",
       "4                                                  NaN     -1   \n",
       "..                                                 ...    ...   \n",
       "859                                                NaN     80   \n",
       "860                                                NaN     10   \n",
       "861                                                NaN      5   \n",
       "862                                                NaN      5   \n",
       "863                                                NaN     -1   \n",
       "\n",
       "                              doi  \n",
       "0                             NaN  \n",
       "1                             NaN  \n",
       "2                             NaN  \n",
       "3                             NaN  \n",
       "4                             NaN  \n",
       "..                            ...  \n",
       "859                           NaN  \n",
       "860  10.1016/j.energy.2020.117363  \n",
       "861                           NaN  \n",
       "862                           NaN  \n",
       "863                           NaN  \n",
       "\n",
       "[864 rows x 9 columns]>"
      ]
     },
     "execution_count": 10,
     "metadata": {},
     "output_type": "execute_result"
    }
   ],
   "source": [
    "from utils.paper import *\n"
   ]
  },
  {
   "cell_type": "code",
   "execution_count": null,
   "id": "5b5842a6-5849-40b6-8850-e965eb4695b3",
   "metadata": {},
   "outputs": [],
   "source": [
    "from sentence_transformers import SentenceTransformer\n",
    "tfm_base = SentenceTransformer('all-MiniLM-L6-v2')\n",
    "\n",
    "X_tfm = tfm_base.encode(recipe_names)\n"
   ]
  },
  {
   "cell_type": "code",
   "execution_count": null,
   "id": "1a56ea02-02a9-4135-9c15-1e0b74c24367",
   "metadata": {},
   "outputs": [],
   "source": []
  }
 ],
 "metadata": {
  "kernelspec": {
   "display_name": "Python 3 (ipykernel)",
   "language": "python",
   "name": "python3"
  },
  "language_info": {
   "codemirror_mode": {
    "name": "ipython",
    "version": 3
   },
   "file_extension": ".py",
   "mimetype": "text/x-python",
   "name": "python",
   "nbconvert_exporter": "python",
   "pygments_lexer": "ipython3",
   "version": "3.12.2"
  }
 },
 "nbformat": 4,
 "nbformat_minor": 5
}
